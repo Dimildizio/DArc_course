{
  "nbformat": 4,
  "nbformat_minor": 0,
  "metadata": {
    "colab": {
      "provenance": [],
      "authorship_tag": "ABX9TyMxu7IOwsY0gR7JqefyH7/9",
      "include_colab_link": true
    },
    "kernelspec": {
      "name": "python3",
      "display_name": "Python 3"
    },
    "language_info": {
      "name": "python"
    }
  },
  "cells": [
    {
      "cell_type": "markdown",
      "metadata": {
        "id": "view-in-github",
        "colab_type": "text"
      },
      "source": [
        "<a href=\"https://colab.research.google.com/github/Dimildizio/DArc_course/blob/main/ETL/ETL2sql.ipynb\" target=\"_parent\"><img src=\"https://colab.research.google.com/assets/colab-badge.svg\" alt=\"Open In Colab\"/></a>"
      ]
    },
    {
      "cell_type": "markdown",
      "source": [
        "## Imports"
      ],
      "metadata": {
        "id": "pZAUivMN12qk"
      }
    },
    {
      "cell_type": "code",
      "source": [
        "!pip install graphviz pydot"
      ],
      "metadata": {
        "colab": {
          "base_uri": "https://localhost:8080/"
        },
        "id": "Bgxpllig9kYT",
        "outputId": "b167ec89-d5b4-4efa-e074-61b57f3fdb55"
      },
      "execution_count": 53,
      "outputs": [
        {
          "output_type": "stream",
          "name": "stdout",
          "text": [
            "Requirement already satisfied: graphviz in /usr/local/lib/python3.10/dist-packages (0.20.1)\n",
            "Requirement already satisfied: pydot in /usr/local/lib/python3.10/dist-packages (1.4.2)\n",
            "Requirement already satisfied: pyparsing>=2.1.4 in /usr/local/lib/python3.10/dist-packages (from pydot) (3.1.1)\n"
          ]
        }
      ]
    },
    {
      "cell_type": "code",
      "source": [
        "import pandas as pd\n",
        "import sqlite3\n",
        "from sqlalchemy import create_engine\n",
        "import matplotlib.pyplot as plt\n",
        "import seaborn as sns\n",
        "import pydot\n",
        "from IPython.display import Image"
      ],
      "metadata": {
        "id": "rDQn7HTn13Rz"
      },
      "execution_count": 54,
      "outputs": []
    },
    {
      "cell_type": "code",
      "source": [
        "file_path = '99Bikers_Raw_data.xlsx'\n",
        "\n",
        "df_transactions = pd.read_excel(file_path, sheet_name='Transactions')\n",
        "df_customers_demographics = pd.read_excel(file_path, sheet_name='CustomerDemographic')\n",
        "df_new_customers_list = pd.read_excel(file_path, sheet_name='NewCustomerList')\n",
        "df_customer_addresses = pd.read_excel(file_path, sheet_name='CustomerAddress')"
      ],
      "metadata": {
        "colab": {
          "base_uri": "https://localhost:8080/"
        },
        "id": "OuDCgPVU16xD",
        "outputId": "5e92440f-b3b3-425e-d771-8dadf43cb233"
      },
      "execution_count": 64,
      "outputs": [
        {
          "output_type": "stream",
          "name": "stderr",
          "text": [
            "<ipython-input-64-31a145708b0a>:4: FutureWarning: Inferring datetime64[ns] from data containing strings is deprecated and will be removed in a future version. To retain the old behavior explicitly pass Series(data, dtype=datetime64[ns])\n",
            "  df_customers_demographics = pd.read_excel(file_path, sheet_name='CustomerDemographic')\n",
            "<ipython-input-64-31a145708b0a>:5: FutureWarning: Inferring datetime64[ns] from data containing strings is deprecated and will be removed in a future version. To retain the old behavior explicitly pass Series(data, dtype=datetime64[ns])\n",
            "  df_new_customers_list = pd.read_excel(file_path, sheet_name='NewCustomerList')\n"
          ]
        }
      ]
    },
    {
      "cell_type": "markdown",
      "source": [
        "## Create db"
      ],
      "metadata": {
        "id": "ARHnqUX73BFF"
      }
    },
    {
      "cell_type": "code",
      "source": [
        "!touch mydb.db"
      ],
      "metadata": {
        "id": "cL4TmeWm3ENn"
      },
      "execution_count": 81,
      "outputs": []
    },
    {
      "cell_type": "code",
      "source": [
        "conn = sqlite3.connect('mydb.db')"
      ],
      "metadata": {
        "id": "Pacf5WoO2-DW"
      },
      "execution_count": 87,
      "outputs": []
    },
    {
      "cell_type": "code",
      "source": [
        "for x in (df_transactions, df_customers_demographics, df_new_customers_list, df_customer_addresses):\n",
        "  print(x.columns)"
      ],
      "metadata": {
        "colab": {
          "base_uri": "https://localhost:8080/"
        },
        "id": "2PxOzdpl7jk2",
        "outputId": "3bdefe8a-ae97-48ec-d190-1da689046fda"
      },
      "execution_count": 88,
      "outputs": [
        {
          "output_type": "stream",
          "name": "stdout",
          "text": [
            "Index(['transaction_id', 'product_id', 'customer_id', 'transaction_date',\n",
            "       'online_order', 'order_status', 'brand', 'product_line',\n",
            "       'product_class', 'product_size', 'list_price', 'standard_cost',\n",
            "       'product_first_sold_date'],\n",
            "      dtype='object')\n",
            "Index(['customer_id', 'first_name', 'last_name', 'gender',\n",
            "       'past_3_years_bike_related_purchases', 'DOB', 'job_title',\n",
            "       'job_industry_category', 'wealth_segment', 'deceased_indicator',\n",
            "       'owns_car', 'tenure'],\n",
            "      dtype='object')\n",
            "Index(['first_name', 'last_name', 'gender',\n",
            "       'past_3_years_bike_related_purchases', 'DOB', 'job_title',\n",
            "       'job_industry_category', 'wealth_segment', 'deceased_indicator',\n",
            "       'owns_car', 'tenure', 'address', 'postcode', 'state', 'country',\n",
            "       'property_valuation', 'Rank', 'Value'],\n",
            "      dtype='object')\n",
            "Index(['customer_id', 'address', 'postcode', 'state', 'country',\n",
            "       'property_valuation'],\n",
            "      dtype='object')\n"
          ]
        }
      ]
    },
    {
      "cell_type": "markdown",
      "source": [
        "Drop default as a column with random stuff"
      ],
      "metadata": {
        "id": "zTcLollj7uWd"
      }
    },
    {
      "cell_type": "code",
      "source": [
        "if 'default' in df_customers_demographics.columns:\n",
        "  df_customers_demographics.drop('default', axis=1, inplace=True)\n",
        "for x in df_new_customers_list.columns:\n",
        "  if 'Unnamed' in x:\n",
        "    df_new_customers_list.drop(x, axis=1, inplace=True)"
      ],
      "metadata": {
        "id": "2t_RIjUe6htI"
      },
      "execution_count": 89,
      "outputs": []
    },
    {
      "cell_type": "code",
      "source": [
        "df_new_customers_list.columns"
      ],
      "metadata": {
        "colab": {
          "base_uri": "https://localhost:8080/"
        },
        "id": "0OP_z2NKCHiT",
        "outputId": "f35f4b4a-5930-4627-a44a-eec00bbac8fc"
      },
      "execution_count": 90,
      "outputs": [
        {
          "output_type": "execute_result",
          "data": {
            "text/plain": [
              "Index(['first_name', 'last_name', 'gender',\n",
              "       'past_3_years_bike_related_purchases', 'DOB', 'job_title',\n",
              "       'job_industry_category', 'wealth_segment', 'deceased_indicator',\n",
              "       'owns_car', 'tenure', 'address', 'postcode', 'state', 'country',\n",
              "       'property_valuation', 'Rank', 'Value'],\n",
              "      dtype='object')"
            ]
          },
          "metadata": {},
          "execution_count": 90
        }
      ]
    },
    {
      "cell_type": "markdown",
      "source": [
        "## Create stage tables"
      ],
      "metadata": {
        "id": "frTsS3Qa3Qop"
      }
    },
    {
      "cell_type": "code",
      "source": [
        "df_transactions.to_sql('stage_transactions', conn, if_exists='replace', index=False)#, dtype={'customer_id': 'TEXT'})\n",
        "df_customers_demographics.to_sql('stage_customers_demographics', conn, if_exists='replace')#, index=False, dtype={'customer_id': 'TEXT'})\n",
        "df_new_customers_list.to_sql('stage_new_customers_list', conn, if_exists='replace', index=False)# dtype={'customer_id': 'TEXT'})\n",
        "df_customer_addresses.to_sql('stage_customer_addresses', conn, if_exists='replace', index=False)#, dtype={'customer_id': 'TEXT'})"
      ],
      "metadata": {
        "colab": {
          "base_uri": "https://localhost:8080/"
        },
        "id": "p12DQIIw3KK3",
        "outputId": "1c686ba7-a802-4a5a-f768-c4725b1cb539"
      },
      "execution_count": 91,
      "outputs": [
        {
          "output_type": "execute_result",
          "data": {
            "text/plain": [
              "3999"
            ]
          },
          "metadata": {},
          "execution_count": 91
        }
      ]
    },
    {
      "cell_type": "markdown",
      "source": [
        "## Create DWH table queries"
      ],
      "metadata": {
        "id": "cxiyaUm78HWi"
      }
    },
    {
      "cell_type": "code",
      "source": [
        "create_table_transactions = \"\"\"\n",
        "CREATE TABLE IF NOT EXISTS transactions AS\n",
        "SELECT * FROM stage_transactions;\n",
        "\"\"\"\n",
        "\n",
        "create_table_customers_demographics = \"\"\"\n",
        "CREATE TABLE IF NOT EXISTS customers_demographics AS\n",
        "SELECT * FROM stage_customers_demographics;\n",
        "\"\"\"\n",
        "\n",
        "create_table_new_customers_list = \"\"\"\n",
        "CREATE TABLE IF NOT EXISTS new_customers_list AS\n",
        "SELECT * FROM stage_new_customers_list;\n",
        "\"\"\"\n",
        "\n",
        "create_table_customer_addresses = \"\"\"\n",
        "CREATE TABLE IF NOT EXISTS customer_addresses AS\n",
        "SELECT * FROM stage_customer_addresses;\n",
        "\"\"\""
      ],
      "metadata": {
        "id": "jg0Te8FH7t8e"
      },
      "execution_count": 92,
      "outputs": []
    },
    {
      "cell_type": "code",
      "source": [
        "table_names = ['transactions', 'customers_demographics', 'new_customers_list', 'customer_addresses']"
      ],
      "metadata": {
        "id": "NnVu27LY8_Kg"
      },
      "execution_count": 93,
      "outputs": []
    },
    {
      "cell_type": "markdown",
      "source": [
        "### Create DWH tables"
      ],
      "metadata": {
        "id": "Td4ipoxf8Sbt"
      }
    },
    {
      "cell_type": "code",
      "source": [
        "conn.execute(create_table_transactions)\n",
        "conn.execute(create_table_customers_demographics)\n",
        "conn.execute(create_table_new_customers_list)\n",
        "conn.execute(create_table_customer_addresses)"
      ],
      "metadata": {
        "colab": {
          "base_uri": "https://localhost:8080/"
        },
        "id": "LRad73gH8Gx0",
        "outputId": "afeaa361-987d-4495-8f89-6c6c69a02271"
      },
      "execution_count": 94,
      "outputs": [
        {
          "output_type": "execute_result",
          "data": {
            "text/plain": [
              "<sqlite3.Cursor at 0x789dfda6f340>"
            ]
          },
          "metadata": {},
          "execution_count": 94
        }
      ]
    },
    {
      "cell_type": "code",
      "source": [
        "engine = create_engine('sqlite:///mydb.db')"
      ],
      "metadata": {
        "id": "ZI1Qn7st8YxJ"
      },
      "execution_count": 95,
      "outputs": []
    },
    {
      "cell_type": "code",
      "source": [
        "graph = pydot.Dot(graph_type='digraph')"
      ],
      "metadata": {
        "id": "vVQVDsQq8xOu"
      },
      "execution_count": 96,
      "outputs": []
    },
    {
      "cell_type": "code",
      "source": [
        "table_schemas = {}\n",
        "for table_name in table_names:\n",
        "    query = f\"PRAGMA table_info({table_name})\"\n",
        "    schema = pd.read_sql_query(query, conn)\n",
        "    table_schemas[table_name] = schema"
      ],
      "metadata": {
        "id": "Hr5meTbl80iQ"
      },
      "execution_count": 97,
      "outputs": []
    },
    {
      "cell_type": "code",
      "source": [
        "for table_name, schema in table_schemas.items():\n",
        "    table_label = f\"{table_name}\\n{', '.join(schema['name'])}\"\n",
        "    node = pydot.Node(table_name, label=table_label, shape='box')\n",
        "    graph.add_node(node)"
      ],
      "metadata": {
        "id": "HwOJba7i9DX_"
      },
      "execution_count": 98,
      "outputs": []
    },
    {
      "cell_type": "code",
      "source": [
        "image_path = 'erd.png'\n",
        "graph.write_png(image_path)\n"
      ],
      "metadata": {
        "id": "6A6lYUAN9GQq"
      },
      "execution_count": 99,
      "outputs": []
    },
    {
      "cell_type": "code",
      "source": [
        "Image(image_path)"
      ],
      "metadata": {
        "colab": {
          "base_uri": "https://localhost:8080/",
          "height": 98
        },
        "id": "eSpS0J5L9L19",
        "outputId": "7acb7c0a-9abc-4769-b1a7-060fdce0b34c"
      },
      "execution_count": 100,
      "outputs": [
        {
          "output_type": "execute_result",
          "data": {
            "image/png": "[encoded data removed]",
            "text/plain": [
              "<IPython.core.display.Image object>"
            ]
          },
          "metadata": {},
          "execution_count": 100
        }
      ]
    },
    {
      "cell_type": "code",
      "source": [
        "conn.close()"
      ],
      "metadata": {
        "id": "WulAKNu-9flh"
      },
      "execution_count": 79,
      "outputs": []
    },
    {
      "cell_type": "code",
      "source": [
        "schema = pd.read_sql_query(query, conn)"
      ],
      "metadata": {
        "id": "WmyrW7rM97d8"
      },
      "execution_count": null,
      "outputs": []
    }
  ]
}