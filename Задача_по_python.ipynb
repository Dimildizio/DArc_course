{
  "nbformat": 4,
  "nbformat_minor": 0,
  "metadata": {
    "colab": {
      "provenance": [],
      "include_colab_link": true
    },
    "kernelspec": {
      "name": "python3",
      "display_name": "Python 3"
    },
    "language_info": {
      "name": "python"
    }
  },
  "cells": [
    {
      "cell_type": "markdown",
      "metadata": {
        "id": "view-in-github",
        "colab_type": "text"
      },
      "source": [
        "<a href=\"https://colab.research.google.com/github/Dimildizio/DArc_course/blob/main/%D0%97%D0%B0%D0%B4%D0%B0%D1%87%D0%B0_%D0%BF%D0%BE_python.ipynb\" target=\"_parent\"><img src=\"https://colab.research.google.com/assets/colab-badge.svg\" alt=\"Open In Colab\"/></a>"
      ]
    },
    {
      "cell_type": "markdown",
      "source": [
        "# Задача 1"
      ],
      "metadata": {
        "id": "HXuwROaeRG7I"
      }
    },
    {
      "cell_type": "markdown",
      "source": [
        "### Подготовка\n",
        "\n",
        "Напишите функцию, которая будет перемножать элементы списка:\n",
        "\n",
        "Ввод: [1,2,3,4]\n",
        "\n",
        "Вывод: 24"
      ],
      "metadata": {
        "id": "lao-TP1VOvds"
      }
    },
    {
      "cell_type": "markdown",
      "source": [
        "Для начала перепишите выражение a = a + 1 через +="
      ],
      "metadata": {
        "id": "qXh8crwU2U5L"
      }
    },
    {
      "cell_type": "code",
      "source": [
        "a = 1\n",
        "\n",
        "# Ваш код"
      ],
      "metadata": {
        "id": "wXKwKqhk2VRt"
      },
      "execution_count": null,
      "outputs": []
    },
    {
      "cell_type": "markdown",
      "source": [
        "*Примечание:*\n",
        "\n",
        "Хорошим тоном считается указание тайпингов (typing).\n",
        "То есть после аргументов функции через символ \":\" указывается тип этих аргументов (в примере ниже мы говорим, что аргумент l должен иметь тип list). Также через символ \"->\" указывается тип данных, которые должна вернуть фукция в return (внашем примере функция возращает int)\n",
        "\n",
        "Typing служит исключительно для упрощения понимания кода, и не несет в себе функциональный характер (то есть функция будет рабоать и без него)"
      ],
      "metadata": {
        "id": "14-THPSvxGzs"
      }
    },
    {
      "cell_type": "code",
      "source": [
        "def mult_list(l: list) -> int:\n",
        "  ''' Используйте цикл for, чтобы пройти по всем эллементам цикла, накапливайте mult с помощью mult *=,\n",
        "  либо придумайте свой вариант '''\n",
        "  mult = 1\n",
        "\n",
        "  for i in range(# Ваш код):\n",
        "\n",
        "    # Ваш код\n",
        "\n",
        "  return mult"
      ],
      "metadata": {
        "id": "Ip9YB4OzPByl"
      },
      "execution_count": null,
      "outputs": []
    },
    {
      "cell_type": "code",
      "source": [
        "assert mult_list([1, 1, 1]) == 1\n",
        "assert mult_list([1, 0, 1]) == 0\n",
        "assert mult_list([1, 2, 1]) == 2"
      ],
      "metadata": {
        "id": "4fFaitemQSN6"
      },
      "execution_count": null,
      "outputs": []
    },
    {
      "cell_type": "markdown",
      "source": [
        "### Подготовка 2\n",
        "\n",
        "Перепишите данный генератор списка через цикл\n",
        "\n",
        "[Подсказка](https://ru.hexlet.io/courses/python_101/lessons/python_gens/theory_unit)"
      ],
      "metadata": {
        "id": "ZIiuWA7AQ__4"
      }
    },
    {
      "cell_type": "code",
      "source": [
        "[ x for x in range(1, 10) if x%2 != 0 ]"
      ],
      "metadata": {
        "colab": {
          "base_uri": "https://localhost:8080/"
        },
        "id": "hHd7GcclQ7K4",
        "outputId": "60fde4e6-76b8-4a93-ef4c-c2b130fc72d4"
      },
      "execution_count": null,
      "outputs": [
        {
          "output_type": "execute_result",
          "data": {
            "text/plain": [
              "[1, 3, 5, 7, 9]"
            ]
          },
          "metadata": {},
          "execution_count": 9
        }
      ]
    },
    {
      "cell_type": "code",
      "source": [
        "l = []\n",
        "\n",
        "for x in range(1, 10):\n",
        "  if x%2 != 0:\n",
        "    # Ваш код\n",
        "\n",
        "print(l)"
      ],
      "metadata": {
        "id": "NOixfKkKUfrI"
      },
      "execution_count": null,
      "outputs": []
    },
    {
      "cell_type": "markdown",
      "source": [
        "### Условие задачи:\n",
        "\n",
        "Дается список. Нужно вывести список, где на i месте произведение всех элементов кроме i\n",
        "\n",
        "Ввод: [1, 2, 3]\n",
        "\n",
        "Вывод: [6, 3, 2]\n",
        "\n",
        "То есть 2 * 3 = 6, 1 * 3 = 3, 1 * 2 = 2\n",
        "\n",
        "\n",
        "---\n",
        "\n",
        "\n",
        "Постарайтесь решить задачу за одну итерацию по списку. Для этого воспользуйтесь функцией, которую вы написали выше: mult_list(). То есть для решения задачи не обязательно постоянно перемножать все числа.\n",
        "\n"
      ],
      "metadata": {
        "id": "jWqm_bRKSx12"
      }
    },
    {
      "cell_type": "code",
      "source": [
        "def list_exception(l: list) -> list:\n",
        "  result = []\n",
        "\n",
        "  total_mult = mult_list(l)\n",
        "\n",
        "  # Ваш код\n",
        "\n",
        "  return result"
      ],
      "metadata": {
        "id": "vzqpcIVaSg9D"
      },
      "execution_count": null,
      "outputs": []
    },
    {
      "cell_type": "code",
      "source": [
        "assert list_exception([1, 1, 1]) == [1, 1, 1]\n",
        "assert list_exception([1, 2, 1]) == [2, 1, 2]"
      ],
      "metadata": {
        "id": "PXWuF4Hk8zEh"
      },
      "execution_count": null,
      "outputs": []
    },
    {
      "cell_type": "code",
      "source": [
        "assert list_exception([1, 0, 1]) == [0, 1, 0]"
      ],
      "metadata": {
        "id": "0TXvK0Zi86cD"
      },
      "execution_count": null,
      "outputs": []
    },
    {
      "cell_type": "markdown",
      "source": [
        "Упс, ответ неверный, так как в списке есть 0 и mult_list возвращает 0, значит, возникает деление на 0\n",
        "\n",
        "То есть, если в массиве есть один 0, мы должны пропустить его в функции mult_list:\n",
        "\n",
        "\n",
        "```\n",
        "if element_of_list == 0:\n",
        "  continue\n",
        "```\n",
        "\n",
        "И, значит, все элементы конечного списка будут равны 0. Это не касается того места, где стоял 0 изначально: там будет значение обновленной функции mult_list2.\n",
        "\n",
        "То есть функция mult_list2 должна возвращать три параметра: итогово произведение, кол-во нулей и порядковый номер последнего нуля.\n",
        "\n",
        "Также стоит отметить, что если в исходном массиве два или более 0, то функция list_exception2 должна сразу выдавать все 0\n",
        "\n"
      ],
      "metadata": {
        "id": "A2pT-XIsNMRe"
      }
    },
    {
      "cell_type": "code",
      "source": [
        "def mult_list2(l: list):\n",
        "  mult = 1\n",
        "  count_of_zer = 0\n",
        "\n",
        "  # Ваш код\n",
        "\n",
        "  return mult, count_of_zer, i_of_zero\n",
        "\n",
        "\n",
        "def list_exception2(l: list) -> list:\n",
        "\n",
        "  result = []\n",
        "\n",
        "  total_mult, count_of_zer, i_of_zero = mult_list(l)\n",
        "\n",
        "  if count_of_zer >= 2:\n",
        "    return [0] * len(l)\n",
        "\n",
        "  if count_of_zer == 1:\n",
        "    result = [0] * len(l)\n",
        "\n",
        "    result[i_of_zero] = # Ваш код\n",
        "\n",
        "    return result\n",
        "\n",
        "  # Ваш код\n",
        "\n",
        "  return result"
      ],
      "metadata": {
        "id": "JjN0xqeMNbEg"
      },
      "execution_count": null,
      "outputs": []
    }
  ]
}